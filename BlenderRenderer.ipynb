{
  "nbformat": 4,
  "nbformat_minor": 0,
  "metadata": {
    "colab": {
      "name": "BlenderRenderer.ipynb",
      "private_outputs": true,
      "provenance": [],
      "collapsed_sections": []
    },
    "kernelspec": {
      "name": "python3",
      "display_name": "Python 3"
    },
    "language_info": {
      "name": "python"
    },
    "accelerator": "GPU"
  },
  "cells": [
    {
      "cell_type": "markdown",
      "metadata": {
        "id": "iT1tiXIRRUj2"
      },
      "source": [
        "# **BLENDER RENDERER (v1.8)**\n",
        "Blender renderer in Google Colab by Jed556"
      ]
    },
    {
      "cell_type": "markdown",
      "metadata": {
        "id": "T5-VFqrvbJkO"
      },
      "source": [
        "## Setup Renderer"
      ]
    },
    {
      "cell_type": "code",
      "metadata": {
        "id": "ql8ExOQ1pRfM"
      },
      "source": [
        "# @title System Information { display-mode: \"form\" }\n",
        "import psutil\n",
        "def get_size(bytes, suffix=\"B\"):\n",
        "    factor = 1024\n",
        "    for unit in [\"\", \"K\", \"M\", \"G\", \"T\", \"P\"]:\n",
        "        if bytes < factor:\n",
        "            return f\"{bytes:.2f}{unit}{suffix}\"\n",
        "        bytes /= factor\n",
        "print(\"=\"*40, \"Memory Information\", \"=\"*40)\n",
        "svmem = psutil.virtual_memory()\n",
        "print(f\"Total: {get_size(svmem.total)}\") ; print(f\"Available: {get_size(svmem.available)}\")\n",
        "print(f\"Used: {get_size(svmem.used)}\") ; print(f\"Percentage: {svmem.percent}%\")\n",
        "print(\"=\"*41, \"GPU Information\", \"=\"*40)\n",
        "! nvidia-smi"
      ],
      "execution_count": null,
      "outputs": []
    },
    {
      "cell_type": "code",
      "metadata": {
        "id": "TmsubPeBplaJ"
      },
      "source": [
        "#@title Configure and Install Blender { display-mode: \"form\" }\n",
        "Version = 'Blender 3.1.0 Alpha' #@param [\"Blender 2.79b\", \"Blender 2.80\", \"Blender 2.81\", \"Blender 2.82a\", \"Blender 2.83.0\", \"Blender 2.83.3\", \"Blender 2.90alpha (expiremental)\", \"Blender 2.90\", \"Blender 2.92\", \"Blender 2.93\", \"Blender 3.1.0 Alpha\"]\n",
        "#@markdown Resources to use:\n",
        "GPU = True #@param {type:\"boolean\"}\n",
        "CPU = True #@param {type:\"boolean\"}\n",
        "\n",
        "def path_leaf(path):\n",
        "  import ntpath\n",
        "  head, tail = ntpath.split(path)\n",
        "  return tail or ntpath.basename(head)\n",
        " \n",
        "link = {\n",
        "    \"Blender 2.79b\": \"https://download.blender.org/release/Blender2.79/blender-2.79b-linux-glibc219-x86_64.tar.bz2\",\n",
        "    \"Blender 2.80\": \"https://download.blender.org/release/Blender2.80/blender-2.80-linux-glibc217-x86_64.tar.bz2\",\n",
        "    \"Blender 2.81\": \"https://download.blender.org/release/Blender2.81/blender-2.81-linux-glibc217-x86_64.tar.bz2\",\n",
        "    \"Blender 2.82a\": \"https://download.blender.org/release/Blender2.82/blender-2.82a-linux64.tar.xz\",\n",
        "    \"Blender 2.83.0\": \"https://download.blender.org/release/Blender2.83/blender-2.83.0-linux64.tar.xz\",\n",
        "    \"Blender 2.83.3\": \"https://download.blender.org/release/Blender2.83/blender-2.83.3-linux64.tar.xz\",\n",
        "    \"Blender 2.90alpha (expiremental)\": \"https://blender.community/5edccfe69c122126f183e2ad/download/5ef635439c12214ca244be6b\",\n",
        "    \"Blender 2.90\" : \"https://download.blender.org/release/Blender2.90/blender-2.90.0-linux64.tar.xz\",\n",
        "    \"Blender 2.92\" : \"https://download.blender.org/release/Blender2.92/blender-2.92.0-linux64.tar.xz\",\n",
        "    \"Blender 2.93\" : \"https://download.blender.org/release/Blender2.93/blender-2.93.5-linux-x64.tar.xz\",\n",
        "    \"Blender 3.1.0 Alpha\" : \"https://builder.blender.org/download/daily/blender-3.1.0-alpha+master.c312c7196944-linux.x86_64-release.tar.xz\"\n",
        "}\n",
        " \n",
        "dl = link[Version]\n",
        "filename = path_leaf(dl)\n",
        " \n",
        "if (Version == \"Blender 2.90alpha (expiremental)\"):\n",
        "  !wget $dl\n",
        "  !sudo apt-get install p7zip-full\n",
        "  !7z x $filename\n",
        "  !mv blender_290bM_e935447a5370-20200625-1857 blender\n",
        "else:\n",
        "  !wget -nc $dl\n",
        "  !mkdir ./blender && tar xf $filename -C ./blender --strip-components 1\n",
        " \n",
        "!apt install libboost-all-dev\n",
        "!apt install libgl1-mesa-dev\n",
        "!apt install libglu1-mesa libsm-dev\n",
        "\n",
        "data = \"import re\\n\"+\\\n",
        "    \"import bpy\\n\"+\\\n",
        "    \"scene = bpy.context.scene\\n\"+\\\n",
        "    \"scene.cycles.device = 'GPU'\\n\"+\\\n",
        "    \"prefs = bpy.context.preferences\\n\"+\\\n",
        "    \"prefs.addons['cycles'].preferences.get_devices()\\n\"+\\\n",
        "    \"cprefs = prefs.addons['cycles'].preferences\\n\"+\\\n",
        "    \"print(cprefs)\\n\"+\\\n",
        "    \"# Attempt to set GPU device types if available\\n\"+\\\n",
        "    \"for compute_device_type in ('CUDA', 'OPENCL', 'NONE'):\\n\"+\\\n",
        "    \"    try:\\n\"+\\\n",
        "    \"        cprefs.compute_device_type = compute_device_type\\n\"+\\\n",
        "    \"        print('Device found',compute_device_type)\\n\"+\\\n",
        "    \"        break\\n\"+\\\n",
        "    \"    except TypeError:\\n\"+\\\n",
        "    \"        pass\\n\"+\\\n",
        "    \"#for scene in bpy.data.scenes:\\n\"+\\\n",
        "    \"#    scene.render.tile_x = 64\\n\"+\\\n",
        "    \"#    scene.render.tile_y = 64\\n\"+\\\n",
        "    \"# Enable all CPU and GPU devices\\n\"+\\\n",
        "    \"for device in cprefs.devices:\\n\"+\\\n",
        "    \"    if not re.match('intel', device.name, re.I):\\n\"+\\\n",
        "    \"        print('Activating',device)\\n\"+\\\n",
        "    \"        device.use = \"+str(GPU)+\"\\n\"+\\\n",
        "    \"    else:\\n\"+\\\n",
        "    \"        device.use = \"+str(CPU)+\"\\n\"\n",
        "with open('setgpu.py', 'w') as f:\n",
        "    f.write(data)"
      ],
      "execution_count": null,
      "outputs": []
    },
    {
      "cell_type": "code",
      "metadata": {
        "id": "7CfvCzOqqGpF",
        "cellView": "form"
      },
      "source": [
        "# @title Connect to Google Drive\n",
        "from google.colab import drive\n",
        "drive.mount('/gdrive')\n",
        "drive.mount('/content/drive', force_remount=True)"
      ],
      "execution_count": null,
      "outputs": []
    },
    {
      "cell_type": "markdown",
      "metadata": {
        "id": "QS_JMfIZa4R7"
      },
      "source": [
        "## Render Configuration"
      ]
    },
    {
      "cell_type": "code",
      "metadata": {
        "id": "-8up3irGqK0A"
      },
      "source": [
        "# @title Render Animation Frames (Cycles) { display-mode: \"form\" }\n",
        "Device = 'NONE' #@param [\"NONE\", \"OPTIX\", \"CUDA\"]\n",
        "Start =  1#@param {type:\"integer\"}\n",
        "End = 600 #@param {type:\"integer\"}\n",
        "!sudo ./blender/blender -P 'setgpu.py' -b '/content/drive/My Drive/Blender/Render.blend' -noaudio -E 'CYCLES' -o '/content/drive/My Drive/Blender/Renders/####.png' -s {Start} -e {End} -a -- --cycles-device {Device}"
      ],
      "execution_count": null,
      "outputs": []
    },
    {
      "cell_type": "code",
      "metadata": {
        "id": "9yZuIF6eqJoC"
      },
      "source": [
        "# @title Render Single Frame (Cycles) { display-mode: \"form\" }\n",
        "Device = 'NONE' #@param [\"NONE\", \"OPTIX\", \"CUDA\"]\n",
        "Frame = 1 #@param {type:\"integer\"}\n",
        "!sudo ./blender/blender -P 'setgpu.py' -b '/content/drive/My Drive/Blender/Render.blend' -noaudio -E 'CYCLES' -o '/content/drive/My Drive/Blender/Renders/####.png' -f {Frame} -a -- --cycles-device {Device}"
      ],
      "execution_count": null,
      "outputs": []
    }
  ]
}
